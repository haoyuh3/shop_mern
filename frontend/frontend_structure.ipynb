{
 "cells": [
  {
   "cell_type": "code",
   "execution_count": null,
   "id": "initial_id",
   "metadata": {
    "collapsed": true
   },
   "outputs": [],
   "source": ""
  },
  {
   "metadata": {},
   "cell_type": "markdown",
   "source": "frontend: React\n",
   "id": "3bb64bed9d58e90d"
  },
  {
   "metadata": {},
   "cell_type": "markdown",
   "source": [
    "frontend/\n",
    "├── public/\n",
    "│   └── index.html              # HTML 模板，React 最终挂载点\n",
    "├── src/\n",
    "│   ├── index.js                # 前端入口文件，React 应用初始化 & 渲染 App\n",
    "│   ├── App.js                  # 根组件，定义页面布局和前端路由\n",
    "│   ├── components/             # 可复用的通用 UI 组件（Header, Loader, Message 等）\n",
    "│   ├── screens/                # 每个路由页面对应的组件（Home, Product, Cart, etc）\n",
    "│   ├── actions/                # Redux 的 Action Creators（触发异步请求）\n",
    "│   ├── reducers/               # Redux 的 Reducers（处理状态更新逻辑）\n",
    "│   ├── constants/              # Redux 中使用的 Action 类型常量定义\n",
    "│   ├── store.js                # 创建并配置 Redux store（中间件、调试工具等）\n",
    "│   └── index.css               # 全局样式文件"
   ],
   "id": "e377a65a2def8df5"
  },
  {
   "metadata": {},
   "cell_type": "markdown",
   "source": [
    "src/index.js\n",
    "React 启动"
   ],
   "id": "3c6cad7910019e88"
  }
 ],
 "metadata": {
  "kernelspec": {
   "display_name": "Python 3",
   "language": "python",
   "name": "python3"
  },
  "language_info": {
   "codemirror_mode": {
    "name": "ipython",
    "version": 2
   },
   "file_extension": ".py",
   "mimetype": "text/x-python",
   "name": "python",
   "nbconvert_exporter": "python",
   "pygments_lexer": "ipython2",
   "version": "2.7.6"
  }
 },
 "nbformat": 4,
 "nbformat_minor": 5
}
